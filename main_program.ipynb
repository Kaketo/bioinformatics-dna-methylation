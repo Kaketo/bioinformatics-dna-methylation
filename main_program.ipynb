{
 "cells": [
  {
   "cell_type": "code",
   "execution_count": 1,
   "metadata": {
    "ExecuteTime": {
     "end_time": "2019-11-17T22:59:48.849850Z",
     "start_time": "2019-11-17T22:59:48.417767Z"
    }
   },
   "outputs": [],
   "source": [
    "import pandas as pd\n",
    "import numpy as np\n",
    "from tqdm import tqdm"
   ]
  },
  {
   "cell_type": "code",
   "execution_count": 2,
   "metadata": {
    "ExecuteTime": {
     "end_time": "2019-11-17T22:59:48.857420Z",
     "start_time": "2019-11-17T22:59:48.850892Z"
    }
   },
   "outputs": [],
   "source": [
    "def transform_str_chromosome(pandas_series):\n",
    "    return pandas_series.apply(lambda x: int(x[3:]))"
   ]
  },
  {
   "cell_type": "markdown",
   "metadata": {},
   "source": [
    "## Load data"
   ]
  },
  {
   "cell_type": "markdown",
   "metadata": {},
   "source": [
    "### CpG Islands"
   ]
  },
  {
   "cell_type": "code",
   "execution_count": 3,
   "metadata": {
    "ExecuteTime": {
     "end_time": "2019-11-17T22:59:48.959429Z",
     "start_time": "2019-11-17T22:59:48.859290Z"
    }
   },
   "outputs": [
    {
     "data": {
      "text/html": [
       "<div>\n",
       "<style scoped>\n",
       "    .dataframe tbody tr th:only-of-type {\n",
       "        vertical-align: middle;\n",
       "    }\n",
       "\n",
       "    .dataframe tbody tr th {\n",
       "        vertical-align: top;\n",
       "    }\n",
       "\n",
       "    .dataframe thead th {\n",
       "        text-align: right;\n",
       "    }\n",
       "</style>\n",
       "<table border=\"1\" class=\"dataframe\">\n",
       "  <thead>\n",
       "    <tr style=\"text-align: right;\">\n",
       "      <th></th>\n",
       "      <th>chromosome</th>\n",
       "      <th>start</th>\n",
       "      <th>stop</th>\n",
       "    </tr>\n",
       "  </thead>\n",
       "  <tbody>\n",
       "    <tr>\n",
       "      <th>0</th>\n",
       "      <td>1</td>\n",
       "      <td>28735</td>\n",
       "      <td>29810</td>\n",
       "    </tr>\n",
       "    <tr>\n",
       "      <th>1</th>\n",
       "      <td>1</td>\n",
       "      <td>135124</td>\n",
       "      <td>135563</td>\n",
       "    </tr>\n",
       "    <tr>\n",
       "      <th>2</th>\n",
       "      <td>1</td>\n",
       "      <td>327790</td>\n",
       "      <td>328229</td>\n",
       "    </tr>\n",
       "    <tr>\n",
       "      <th>3</th>\n",
       "      <td>1</td>\n",
       "      <td>437151</td>\n",
       "      <td>438164</td>\n",
       "    </tr>\n",
       "    <tr>\n",
       "      <th>4</th>\n",
       "      <td>1</td>\n",
       "      <td>449273</td>\n",
       "      <td>450544</td>\n",
       "    </tr>\n",
       "  </tbody>\n",
       "</table>\n",
       "</div>"
      ],
      "text/plain": [
       "   chromosome   start    stop\n",
       "0           1   28735   29810\n",
       "1           1  135124  135563\n",
       "2           1  327790  328229\n",
       "3           1  437151  438164\n",
       "4           1  449273  450544"
      ]
     },
     "execution_count": 3,
     "metadata": {},
     "output_type": "execute_result"
    }
   ],
   "source": [
    "cpg_islands = pd.read_csv('data/cpgIslandExt.txt', sep = '\\t', header = None).iloc[:,1:4]\n",
    "cpg_islands = cpg_islands.rename(columns = {1:'chromosome',2:'start',3:'stop'})\n",
    "chromosomes = ['chr1','chr2','chr3','chr4','chr5','chr6','chr7','chr8','chr9','chr10','chr11','chr12','chr13','chr14',\n",
    "               'chr15','chr16','chr17','chr18','chr19','chr20','chr21','chr22']\n",
    "cpg_islands = cpg_islands[cpg_islands['chromosome'].isin(chromosomes)]\n",
    "cpg_islands['chromosome'] = transform_str_chromosome(cpg_islands['chromosome'])\n",
    "cpg_islands = cpg_islands.sort_values(['chromosome', 'start'])\n",
    "cpg_islands.head(5)"
   ]
  },
  {
   "cell_type": "markdown",
   "metadata": {},
   "source": [
    "### Chromosomes length"
   ]
  },
  {
   "cell_type": "code",
   "execution_count": 4,
   "metadata": {
    "ExecuteTime": {
     "end_time": "2019-11-17T22:59:48.989348Z",
     "start_time": "2019-11-17T22:59:48.961389Z"
    }
   },
   "outputs": [
    {
     "data": {
      "text/html": [
       "<div>\n",
       "<style scoped>\n",
       "    .dataframe tbody tr th:only-of-type {\n",
       "        vertical-align: middle;\n",
       "    }\n",
       "\n",
       "    .dataframe tbody tr th {\n",
       "        vertical-align: top;\n",
       "    }\n",
       "\n",
       "    .dataframe thead th {\n",
       "        text-align: right;\n",
       "    }\n",
       "</style>\n",
       "<table border=\"1\" class=\"dataframe\">\n",
       "  <thead>\n",
       "    <tr style=\"text-align: right;\">\n",
       "      <th></th>\n",
       "      <th>chromosome</th>\n",
       "      <th>length</th>\n",
       "    </tr>\n",
       "  </thead>\n",
       "  <tbody>\n",
       "    <tr>\n",
       "      <th>0</th>\n",
       "      <td>1</td>\n",
       "      <td>249250621</td>\n",
       "    </tr>\n",
       "    <tr>\n",
       "      <th>1</th>\n",
       "      <td>2</td>\n",
       "      <td>243199373</td>\n",
       "    </tr>\n",
       "    <tr>\n",
       "      <th>2</th>\n",
       "      <td>3</td>\n",
       "      <td>198022430</td>\n",
       "    </tr>\n",
       "    <tr>\n",
       "      <th>3</th>\n",
       "      <td>4</td>\n",
       "      <td>191154276</td>\n",
       "    </tr>\n",
       "    <tr>\n",
       "      <th>4</th>\n",
       "      <td>5</td>\n",
       "      <td>180915260</td>\n",
       "    </tr>\n",
       "  </tbody>\n",
       "</table>\n",
       "</div>"
      ],
      "text/plain": [
       "   chromosome     length\n",
       "0           1  249250621\n",
       "1           2  243199373\n",
       "2           3  198022430\n",
       "3           4  191154276\n",
       "4           5  180915260"
      ]
     },
     "execution_count": 4,
     "metadata": {},
     "output_type": "execute_result"
    }
   ],
   "source": [
    "chrom_len = pd.read_csv('data/hg19.chrom.sizes.txt', sep = '\\t', header = None, names = ['chromosome','length'])\n",
    "chromosomes = ['chr1','chr2','chr3','chr4','chr5','chr6','chr7','chr8','chr9','chr10','chr11','chr12','chr13','chr14',\n",
    "               'chr15','chr16','chr17','chr18','chr19','chr20','chr21','chr22']\n",
    "chrom_len = chrom_len[chrom_len['chromosome'].isin(chromosomes)]\n",
    "chrom_len['chromosome'] = transform_str_chromosome(chrom_len['chromosome'])\n",
    "\n",
    "chrom_len.head()"
   ]
  },
  {
   "cell_type": "code",
   "execution_count": 5,
   "metadata": {
    "ExecuteTime": {
     "end_time": "2019-11-17T22:59:49.005306Z",
     "start_time": "2019-11-17T22:59:48.990311Z"
    }
   },
   "outputs": [
    {
     "data": {
      "text/html": [
       "<div>\n",
       "<style scoped>\n",
       "    .dataframe tbody tr th:only-of-type {\n",
       "        vertical-align: middle;\n",
       "    }\n",
       "\n",
       "    .dataframe tbody tr th {\n",
       "        vertical-align: top;\n",
       "    }\n",
       "\n",
       "    .dataframe thead th {\n",
       "        text-align: right;\n",
       "    }\n",
       "</style>\n",
       "<table border=\"1\" class=\"dataframe\">\n",
       "  <thead>\n",
       "    <tr style=\"text-align: right;\">\n",
       "      <th></th>\n",
       "      <th>chromosome</th>\n",
       "      <th>start</th>\n",
       "      <th>stop</th>\n",
       "      <th>length</th>\n",
       "    </tr>\n",
       "  </thead>\n",
       "  <tbody>\n",
       "    <tr>\n",
       "      <th>0</th>\n",
       "      <td>1</td>\n",
       "      <td>28735</td>\n",
       "      <td>29810</td>\n",
       "      <td>249250621</td>\n",
       "    </tr>\n",
       "    <tr>\n",
       "      <th>1</th>\n",
       "      <td>1</td>\n",
       "      <td>135124</td>\n",
       "      <td>135563</td>\n",
       "      <td>249250621</td>\n",
       "    </tr>\n",
       "    <tr>\n",
       "      <th>2</th>\n",
       "      <td>1</td>\n",
       "      <td>327790</td>\n",
       "      <td>328229</td>\n",
       "      <td>249250621</td>\n",
       "    </tr>\n",
       "    <tr>\n",
       "      <th>3</th>\n",
       "      <td>1</td>\n",
       "      <td>437151</td>\n",
       "      <td>438164</td>\n",
       "      <td>249250621</td>\n",
       "    </tr>\n",
       "    <tr>\n",
       "      <th>4</th>\n",
       "      <td>1</td>\n",
       "      <td>449273</td>\n",
       "      <td>450544</td>\n",
       "      <td>249250621</td>\n",
       "    </tr>\n",
       "  </tbody>\n",
       "</table>\n",
       "</div>"
      ],
      "text/plain": [
       "   chromosome   start    stop     length\n",
       "0           1   28735   29810  249250621\n",
       "1           1  135124  135563  249250621\n",
       "2           1  327790  328229  249250621\n",
       "3           1  437151  438164  249250621\n",
       "4           1  449273  450544  249250621"
      ]
     },
     "execution_count": 5,
     "metadata": {},
     "output_type": "execute_result"
    }
   ],
   "source": [
    "data = cpg_islands.merge(chrom_len)\n",
    "data.head()"
   ]
  },
  {
   "cell_type": "markdown",
   "metadata": {},
   "source": [
    "### DNA Methylation"
   ]
  },
  {
   "cell_type": "code",
   "execution_count": 6,
   "metadata": {
    "ExecuteTime": {
     "end_time": "2019-11-17T22:59:49.799136Z",
     "start_time": "2019-11-17T22:59:49.006282Z"
    }
   },
   "outputs": [],
   "source": [
    "chromosomes = ['chr1','chr2','chr3','chr4','chr5','chr6','chr7','chr8','chr9','chr10','chr11','chr12','chr13','chr14',\n",
    "               'chr15','chr16','chr17','chr18','chr19','chr20','chr21','chr22']\n",
    "dna_methylation = []\n",
    "with open(\"data/HAIB.A549.EtOH.Rep.3.bed\")as f:\n",
    "    for line in f:\n",
    "        row = line.strip().split()\n",
    "        if row[0] in chromosomes:\n",
    "            chromosome = int(row[0][3:])\n",
    "            start = int(row[1])\n",
    "            stop = int(row[2])\n",
    "            dna_methylation.append((chromosome, start, stop))"
   ]
  },
  {
   "cell_type": "markdown",
   "metadata": {},
   "source": [
    "## Create CPG Islands, Shores, Shelves, Seas"
   ]
  },
  {
   "cell_type": "code",
   "execution_count": 7,
   "metadata": {
    "ExecuteTime": {
     "end_time": "2019-11-17T22:59:49.822533Z",
     "start_time": "2019-11-17T22:59:49.799136Z"
    }
   },
   "outputs": [],
   "source": [
    "def create_bed(data, window):\n",
    "    \"\"\"\n",
    "    data must be sorted by chromosome, start\n",
    "    \"\"\"    \n",
    "    # Final Value lists\n",
    "    cpg_islands = []\n",
    "    shores = []\n",
    "    shelves = []\n",
    "    seas = []\n",
    "    \n",
    "    prev_start = data.iloc[0]['start']\n",
    "    prev_stop = data.iloc[0]['stop']\n",
    "    prev_chromosome = data.iloc[0]['chromosome']\n",
    "    prev_chromosome_len = data.iloc[0]['length']\n",
    "    \n",
    "    \n",
    "    \n",
    "    # First CPG Island - left\n",
    "    cpg_islands.append((prev_chromosome, prev_start, prev_stop))\n",
    "    if prev_start > (2*window):\n",
    "        seas.append((prev_chromosome, 0, prev_start - 2*window))\n",
    "        shelves.append((prev_chromosome, prev_start - 2*window, prev_start - window))\n",
    "        shores.append((prev_chromosome, prev_start - window, prev_start))\n",
    "    elif prev_start > (window):\n",
    "        shelves.append((prev_chromosome, 0, prev_start - window))\n",
    "        shores.append((prev_chromosome, prev_start - window, prev_start))  \n",
    "    elif prev_start < (window):\n",
    "        shores.append((prev_chromosome, 0, prev_start))\n",
    "    else:\n",
    "        print(\"Something's wrong\")\n",
    "    \n",
    "    \n",
    "    \n",
    "    # CPG Islands from 1 to n-1\n",
    "    for i in tqdm(range(1, data.shape[0]), desc = 'CPG Islands'):\n",
    "        start = data.iloc[i]['start']\n",
    "        stop = data.iloc[i]['stop']\n",
    "        chromosome = data.iloc[i]['chromosome']        \n",
    "        chromosome_len = data.iloc[i]['length']\n",
    "        \n",
    "        # LEFT SIDE OF CPG ISLAND\n",
    "        if prev_chromosome == chromosome:\n",
    "            if start - prev_stop > (4*window):\n",
    "                shores.append((chromosome, prev_stop, prev_stop + window))\n",
    "                shelves.append((chromosome, prev_stop + window, prev_stop + 2*window))\n",
    "                seas.append((chromosome, prev_stop + 2*window, start - 2*window))\n",
    "                shelves.append((chromosome, start - 2*window, start - window))\n",
    "                shores.append((chromosome, start - window, start))\n",
    "            elif start - prev_stop > (2*window):\n",
    "                shores.append((chromosome, prev_stop, prev_stop + window))\n",
    "                shelves.append((chromosome, prev_stop + window, start - window))\n",
    "                shores.append((chromosome, start - window, start))                \n",
    "            elif start - prev_stop > (window):\n",
    "                shores.append((chromosome, prev_stop, start))\n",
    "            elif start - prev_stop <= (window):\n",
    "                shores.append((chromosome, prev_stop, start))\n",
    "            else:\n",
    "                print(\"Something's wrong\")\n",
    "                \n",
    "        elif prev_chromosome != chromosome:\n",
    "            # PREV side\n",
    "            if prev_chromosome_len - prev_stop > (2*window):\n",
    "                shores.append((prev_chromosome, prev_stop, prev_stop + window))\n",
    "                shelves.append((prev_chromosome, prev_stop + window, prev_stop + 2*window))\n",
    "                seas.append((prev_chromosome, prev_stop + 2*window, prev_chromosome_len))\n",
    "            elif prev_chromosome_len - prev_stop > (window):\n",
    "                shores.append((prev_chromosome, prev_stop, prev_stop + window))\n",
    "                shelves.append((prev_chromosome, prev_stop + window, prev_chromosome_len))\n",
    "            elif prev_chromosome_len - prev_stop <= (window):\n",
    "                shores.append((prev_chromosome, prev_stop, prev_chromosome_len))\n",
    "            else:\n",
    "                print(\"Something's wrong\")\n",
    "                \n",
    "            # CURRENT side\n",
    "            if start > (2*window):\n",
    "                seas.append((chromosome, 0, start - 2*window))\n",
    "                shelves.append((chromosome, start - 2*window, start - window))\n",
    "                shores.append((chromosome, start - window, start))\n",
    "            elif start > (window):\n",
    "                shelves.append((chromosome, 0, start - window))\n",
    "                shores.append((chromosome, start - window, start))   \n",
    "            elif start <= (window):\n",
    "                shores.append((chromosome, 0, start))\n",
    "            else:\n",
    "                print(\"Something's wrong\")\n",
    "        prev_start = start\n",
    "        prev_stop = stop\n",
    "        prev_chromosome = chromosome\n",
    "        prev_chromosome_len = chromosome_len\n",
    "        cpg_islands.append((chromosome, start, stop))\n",
    "    \n",
    "    # Last CPG Island - Right\n",
    "    if prev_chromosome_len - prev_stop > (2*window):\n",
    "        shores.append((prev_chromosome, prev_stop, prev_stop + window))\n",
    "        shelves.append((prev_chromosome, prev_stop + window, prev_stop + 2*window))\n",
    "        seas.append((prev_chromosome, prev_stop + 2*window, prev_chromosome_len))\n",
    "    elif prev_chromosome_len - prev_stop > (window):\n",
    "        shores.append((prev_chromosome, prev_stop, prev_stop + window))\n",
    "        shelves.append((prev_chromosome, prev_stop + window, prev_chromosome_len))\n",
    "    elif prev_chromosome_len - prev_stop <= (window):\n",
    "        shores.append((prev_chromosome, prev_stop, prev_chromosome_len))\n",
    "    else:\n",
    "        print(\"Something's wrong\")\n",
    "    \n",
    "    return cpg_islands, shelves, shores, seas"
   ]
  },
  {
   "cell_type": "code",
   "execution_count": 8,
   "metadata": {
    "ExecuteTime": {
     "end_time": "2019-11-17T23:00:00.682359Z",
     "start_time": "2019-11-17T22:59:49.824399Z"
    }
   },
   "outputs": [
    {
     "name": "stderr",
     "output_type": "stream",
     "text": [
      "CPG Islands: 100%|█████████████████████████████████████████████████████████████| 26640/26640 [00:10<00:00, 2458.38it/s]\n"
     ]
    }
   ],
   "source": [
    "cpg_islands, shelves, shores, seas = create_bed(data, 2000)"
   ]
  },
  {
   "cell_type": "code",
   "execution_count": 9,
   "metadata": {
    "ExecuteTime": {
     "end_time": "2019-11-17T23:00:00.687378Z",
     "start_time": "2019-11-17T23:00:00.683356Z"
    }
   },
   "outputs": [],
   "source": [
    "def save_bed_format(filename, data):\n",
    "    with open(filename+'.bed', 'w') as f:\n",
    "        for row in data:\n",
    "            f.write(\"%s\\t%s\\t%s\\n\" % row)"
   ]
  },
  {
   "cell_type": "code",
   "execution_count": 10,
   "metadata": {
    "ExecuteTime": {
     "end_time": "2019-11-17T23:00:00.992282Z",
     "start_time": "2019-11-17T23:00:00.688922Z"
    }
   },
   "outputs": [],
   "source": [
    "save_bed_format('cpg_islands', cpg_islands)\n",
    "save_bed_format('shelves', shelves)\n",
    "save_bed_format('shores', shores)\n",
    "save_bed_format('seas', seas)"
   ]
  },
  {
   "cell_type": "code",
   "execution_count": 11,
   "metadata": {
    "ExecuteTime": {
     "end_time": "2019-11-17T23:00:01.000262Z",
     "start_time": "2019-11-17T23:00:00.993245Z"
    }
   },
   "outputs": [],
   "source": [
    "def calculate_hits(cpg_islands, shores, shelves, seas, dna_methylation):\n",
    "    \"\"\"\n",
    "    All data must be in tuples\n",
    "    (chromosome, start, stop)\n",
    "    \n",
    "    \"\"\"\n",
    "    # Prepare data\n",
    "    cpg_islands_df = pd.DataFrame(cpg_islands, columns = ['chromosome','start','stop'])\n",
    "    cpg_islands_df['region'] = 'cpg_island'\n",
    "    shores_df = pd.DataFrame(shores, columns = ['chromosome','start','stop'])\n",
    "    shores_df['region'] = 'shore'\n",
    "    shelves_df = pd.DataFrame(shelves, columns = ['chromosome','start','stop'])\n",
    "    shelves_df['region'] = 'shelve'\n",
    "    seas_df = pd.DataFrame(seas, columns = ['chromosome','start','stop'])\n",
    "    seas_df['region'] = 'sea'\n",
    "    all_data = cpg_islands_df.append(shores_df, ignore_index=True).append(shelves_df, ignore_index=True).append(seas_df, ignore_index=True)\n",
    "    all_data = all_data.sort_values(['chromosome','start'])\n",
    "    \n",
    "    regions = []\n",
    "    for row in tqdm(dna_methylation, desc='DNA Methylation'):\n",
    "        middle = row[1] + (row[2] - row[1])/2\n",
    "        all_data_rows = all_data[(all_data['chromosome'] == row[0]) & (all_data['start'] <= middle) & (all_data['stop'] >= middle)]\n",
    "        \n",
    "        if all_data_rows.shape[0] > 1:\n",
    "            all_data_rows = all_data_rows.iloc[[-1]]\n",
    "        if all_data_rows.shape[0] == 0:\n",
    "            print('no match')\n",
    "            print(row)\n",
    "        \n",
    "        regions.append(all_data_rows['region'].values)\n",
    "    return regions"
   ]
  },
  {
   "cell_type": "code",
   "execution_count": 12,
   "metadata": {
    "ExecuteTime": {
     "end_time": "2019-11-17T23:12:25.343703Z",
     "start_time": "2019-11-17T23:00:01.001228Z"
    }
   },
   "outputs": [
    {
     "name": "stderr",
     "output_type": "stream",
     "text": [
      "DNA Methylation: 100%|████████████████████████████████████████████████████████| 470870/470870 [12:24<00:00, 632.75it/s]\n"
     ]
    }
   ],
   "source": [
    "regions = calculate_hits(cpg_islands, shores, shelves, seas, dna_methylation)"
   ]
  },
  {
   "cell_type": "code",
   "execution_count": 19,
   "metadata": {
    "ExecuteTime": {
     "end_time": "2019-11-18T08:57:38.745382Z",
     "start_time": "2019-11-18T08:57:32.363083Z"
    }
   },
   "outputs": [
    {
     "data": {
      "text/plain": [
       "[sea]           0.361896\n",
       "[cpg_island]    0.280532\n",
       "[shore]         0.261034\n",
       "[shelve]        0.096538\n",
       "dtype: float64"
      ]
     },
     "execution_count": 19,
     "metadata": {},
     "output_type": "execute_result"
    }
   ],
   "source": [
    "hits = pd.Series(regions).value_counts(normalize=True)\n",
    "hits"
   ]
  },
  {
   "cell_type": "code",
   "execution_count": 34,
   "metadata": {
    "ExecuteTime": {
     "end_time": "2019-11-18T09:06:30.162281Z",
     "start_time": "2019-11-18T09:06:29.897288Z"
    }
   },
   "outputs": [
    {
     "data": {
      "image/png": "[encoded data removed]",
      "text/plain": [
       "<Figure size 432x288 with 1 Axes>"
      ]
     },
     "metadata": {
      "needs_background": "light"
     },
     "output_type": "display_data"
    }
   ],
   "source": [
    "import matplotlib.pyplot as plt\n",
    "\n",
    "fig, ax = plt.subplots()\n",
    "plt.bar(['sea','cpg island','shore','shelve'],hits)\n",
    "plt.title('DNA Methylation hits per region')\n",
    "plt.ylabel('Percentage of hits')\n",
    "plt.xlabel('Region')\n",
    "plt.show()"
   ]
  },
  {
   "cell_type": "code",
   "execution_count": 37,
   "metadata": {
    "ExecuteTime": {
     "end_time": "2019-11-18T09:19:39.026263Z",
     "start_time": "2019-11-18T09:19:32.796785Z"
    }
   },
   "outputs": [
    {
     "data": {
      "text/plain": [
       "470870"
      ]
     },
     "execution_count": 37,
     "metadata": {},
     "output_type": "execute_result"
    }
   ],
   "source": [
    "np.sum(pd.Series(regions).value_counts())"
   ]
  }
 ],
 "metadata": {
  "kernelspec": {
   "display_name": "Python 3",
   "language": "python",
   "name": "python3"
  },
  "language_info": {
   "codemirror_mode": {
    "name": "ipython",
    "version": 3
   },
   "file_extension": ".py",
   "mimetype": "text/x-python",
   "name": "python",
   "nbconvert_exporter": "python",
   "pygments_lexer": "ipython3",
   "version": "3.7.3"
  },
  "toc": {
   "base_numbering": 1,
   "nav_menu": {},
   "number_sections": true,
   "sideBar": true,
   "skip_h1_title": false,
   "title_cell": "Table of Contents",
   "title_sidebar": "Contents",
   "toc_cell": false,
   "toc_position": {},
   "toc_section_display": true,
   "toc_window_display": false
  }
 },
 "nbformat": 4,
 "nbformat_minor": 2
}
